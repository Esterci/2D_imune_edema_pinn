{
 "cells": [
  {
   "cell_type": "code",
   "execution_count": 5,
   "metadata": {},
   "outputs": [],
   "source": [
    "import numpy as np\n",
    "import matplotlib.pyplot as plt\n",
    "import math\n",
    "from tqdm import tqdm\n",
    "import torch\n",
    "import torch.nn as nn"
   ]
  },
  {
   "cell_type": "code",
   "execution_count": 6,
   "metadata": {},
   "outputs": [],
   "source": [
    "class NN(nn.Module):\n",
    "    def __init__(self, *args, **kwargs) -> None:\n",
    "        super(NN, self).__init__(*args, **kwargs)\n",
    "        self.net = torch.nn.Sequential(\n",
    "            nn.Linear(3, 16),\n",
    "            nn.Tanh(),\n",
    "            nn.Linear(16, 32),\n",
    "            nn.Tanh(),\n",
    "            nn.Linear(32, 64),\n",
    "            nn.Tanh(),\n",
    "            nn.Linear(64, 64),\n",
    "            nn.Tanh(),\n",
    "            nn.Linear(64, 32),\n",
    "            nn.Tanh(),\n",
    "            nn.Linear(32,16),\n",
    "            nn.Tanh(),\n",
    "            nn.Linear(16, 16),\n",
    "            nn.Tanh(),\n",
    "            nn.Linear(16, 2),\n",
    "        )\n",
    "\n",
    "    def forward(self, x):\n",
    "        out = self.net(x)\n",
    "        return out"
   ]
  },
  {
   "cell_type": "code",
   "execution_count": null,
   "metadata": {},
   "outputs": [],
   "source": [
    "def boundary_condition(x, custom_value):\n",
    "    return torch.full_like(x, custom_value)"
   ]
  },
  {
   "cell_type": "code",
   "execution_count": 18,
   "metadata": {},
   "outputs": [],
   "source": [
    "num_points = 10"
   ]
  },
  {
   "cell_type": "code",
   "execution_count": 24,
   "metadata": {},
   "outputs": [
    {
     "data": {
      "text/plain": [
       "tensor([0., 1., 0., 1., 0., 1., 0., 1., 0., 1.])"
      ]
     },
     "execution_count": 24,
     "metadata": {},
     "output_type": "execute_result"
    }
   ],
   "source": [
    "x_boundary = torch.tensor([0.0, 1.0])\n",
    "x_boundary = x_boundary.repeat(num_points // 2)\n",
    "x_boundary"
   ]
  },
  {
   "cell_type": "code",
   "execution_count": 21,
   "metadata": {},
   "outputs": [
    {
     "data": {
      "text/plain": [
       "tensor([0.7925, 0.4851, 0.2120, 0.7314, 0.0318, 0.2770, 0.8334, 0.9435, 0.0896,\n",
       "        0.7129])"
      ]
     },
     "execution_count": 21,
     "metadata": {},
     "output_type": "execute_result"
    }
   ],
   "source": [
    "y_boundary = torch.rand(num_points)\n",
    "y_boundary"
   ]
  },
  {
   "cell_type": "code",
   "execution_count": 25,
   "metadata": {},
   "outputs": [],
   "source": [
    "if torch.rand(1) > 0.5:\n",
    "    x_boundary, y_boundary = y_boundary, x_boundary"
   ]
  },
  {
   "cell_type": "code",
   "execution_count": 26,
   "metadata": {},
   "outputs": [
    {
     "data": {
      "text/plain": [
       "tensor([0.7925, 0.4851, 0.2120, 0.7314, 0.0318, 0.2770, 0.8334, 0.9435, 0.0896,\n",
       "        0.7129])"
      ]
     },
     "execution_count": 26,
     "metadata": {},
     "output_type": "execute_result"
    }
   ],
   "source": [
    "x_boundary"
   ]
  },
  {
   "cell_type": "code",
   "execution_count": 27,
   "metadata": {},
   "outputs": [
    {
     "data": {
      "text/plain": [
       "tensor([0., 1., 0., 1., 0., 1., 0., 1., 0., 1.])"
      ]
     },
     "execution_count": 27,
     "metadata": {},
     "output_type": "execute_result"
    }
   ],
   "source": [
    "y_boundary"
   ]
  },
  {
   "cell_type": "code",
   "execution_count": 15,
   "metadata": {},
   "outputs": [
    {
     "data": {
      "text/plain": [
       "tensor([0.6978])"
      ]
     },
     "execution_count": 15,
     "metadata": {},
     "output_type": "execute_result"
    }
   ],
   "source": [
    "x_boundary = torch.tensor([0.0, 1.0]).repeat(num_points // 2)\n",
    "y_boundary = torch.rand(num_points)\n",
    "\n",
    "if torch.rand(1) > 0.5:\n",
    "    x_boundary, y_boundary = y_boundary, x_boundary\n",
    "\n",
    "return x_boundary.view(-1, 1), y_boundary.view(-1, 1)\n"
   ]
  },
  {
   "cell_type": "code",
   "execution_count": 3,
   "metadata": {},
   "outputs": [],
   "source": [
    "h = 0.01\n",
    "k = 0.01\n",
    "Db = 0.0001\n",
    "Dn = 0.0001\n",
    "phi = 0.2\n",
    "ksi = 0.0\n",
    "cb = 0.154\n",
    "lambd_nb = 40\n",
    "mi_n = 0.2\n",
    "lambd_bn = 0.1\n",
    "y_n = 0.1\n",
    "x_dom = (0,1)\n",
    "y_dom = (0,1)\n",
    "t_dom = (0,10)\n",
    "\n",
    "size_x = int(((x_dom[1] - x_dom[0]) / (h)) + 1)\n",
    "size_y = int(((y_dom[1] - y_dom[0]) / (h)) + 1)\n",
    "size_tt = int(((t_dom[1] - t_dom[0]) / (k)) + 1)"
   ]
  },
  {
   "cell_type": "code",
   "execution_count": 4,
   "metadata": {},
   "outputs": [],
   "source": [
    "x = np.linspace((x_dom[1], x_dom[0]) , size_x)\n",
    "y = np.linspace((y_dom[1], y_dom[0]) , size_y)\n",
    "t = np.linspace((t_dom[1], t_dom[0]) , size_tt)\n"
   ]
  },
  {
   "cell_type": "code",
   "execution_count": null,
   "metadata": {},
   "outputs": [],
   "source": []
  }
 ],
 "metadata": {
  "kernelspec": {
   "display_name": "pyTourch",
   "language": "python",
   "name": "python3"
  },
  "language_info": {
   "codemirror_mode": {
    "name": "ipython",
    "version": 3
   },
   "file_extension": ".py",
   "mimetype": "text/x-python",
   "name": "python",
   "nbconvert_exporter": "python",
   "pygments_lexer": "ipython3",
   "version": "3.9.18"
  }
 },
 "nbformat": 4,
 "nbformat_minor": 2
}

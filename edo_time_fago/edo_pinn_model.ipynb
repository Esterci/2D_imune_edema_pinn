{
 "cells": [
  {
   "cell_type": "code",
   "execution_count": 70,
   "metadata": {},
   "outputs": [
    {
     "data": {
      "text/plain": [
       "<contextlib.ExitStack at 0x7f662f4d04f0>"
      ]
     },
     "execution_count": 70,
     "metadata": {},
     "output_type": "execute_result"
    }
   ],
   "source": [
    "import numpy as np\n",
    "import torch\n",
    "import torch.nn as nn\n",
    "import torch.optim as optim\n",
    "import time\n",
    "import pickle as pk\n",
    "from edo_fdm_model import fdm\n",
    "import matplotlib.pyplot as plt\n",
    "\n",
    "# Turn interactive plotting off\n",
    "plt.ioff()"
   ]
  },
  {
   "cell_type": "code",
   "execution_count": 71,
   "metadata": {},
   "outputs": [
    {
     "name": "stdout",
     "output_type": "stream",
     "text": [
      "Steps in time = 10\n",
      "\n",
      "1 de 11\n",
      "2 de 11\n",
      "3 de 11\n",
      "4 de 11\n",
      "5 de 11\n",
      "6 de 11\n",
      "7 de 11\n",
      "8 de 11\n",
      "9 de 11\n",
      "10 de 11\n",
      "11 de 11\n"
     ]
    }
   ],
   "source": [
    "k = 1\n",
    "t_lower = 0.0\n",
    "t_upper = 10\n",
    "phi = 0.2\n",
    "ksi = 0.0\n",
    "cb = 0.15\n",
    "C_nmax = 0.55\n",
    "mi_n = 0.2\n",
    "lambd_bn = 0.1\n",
    "y_n = 0.1\n",
    "\n",
    "size_t = int(((t_upper - t_lower) / (k)))\n",
    "\n",
    "lmb_var = 0.4\n",
    "\n",
    "lmb_list = np.linspace(\n",
    "    1.8 * (1 - lmb_var), 1.8 * (1 + lmb_var), num=size_t + 1, endpoint=True\n",
    ")\n",
    "\n",
    "print(\n",
    "    \"Steps in time = {:d}\\n\".format(\n",
    "        size_t,\n",
    "    )\n",
    ")\n",
    "\n",
    "t_np = np.linspace(t_lower, t_upper, num=size_t + 1, endpoint=True)\n",
    "\n",
    "for i, lbm_nb in enumerate(lmb_list):\n",
    "    if i == 0:\n",
    "        Cp_old, Cl_old = fdm(\n",
    "            k,\n",
    "            phi,\n",
    "            ksi,\n",
    "            cb,\n",
    "            C_nmax,\n",
    "            lbm_nb,\n",
    "            mi_n,\n",
    "            lambd_bn,\n",
    "            y_n,\n",
    "            t_lower,\n",
    "            t_upper,\n",
    "            plot=False,\n",
    "        )\n",
    "\n",
    "    else:\n",
    "        Cp_new, Cl_new = fdm(\n",
    "            k,\n",
    "            phi,\n",
    "            ksi,\n",
    "            cb,\n",
    "            C_nmax,\n",
    "            lbm_nb,\n",
    "            mi_n,\n",
    "            lambd_bn,\n",
    "            y_n,\n",
    "            t_lower,\n",
    "            t_upper,\n",
    "            plot=False,\n",
    "        )\n",
    "\n",
    "        Cp_old = np.vstack((Cp_old.copy(), Cp_new))\n",
    "        Cl_old = np.vstack((Cl_old.copy(), Cl_new))\n",
    "\n",
    "    print(i + 1, \"de\", len(lmb_list))"
   ]
  },
  {
   "cell_type": "code",
   "execution_count": 72,
   "metadata": {},
   "outputs": [
    {
     "name": "stdout",
     "output_type": "stream",
     "text": [
      "cuda\n"
     ]
    }
   ],
   "source": [
    "tt, ll = np.meshgrid(t_np, lmb_list)\n",
    "\n",
    "data_input_np = np.array([Cl_old.flatten(), Cp_old.flatten()]).T\n",
    "\n",
    "if torch.cuda.is_available():\n",
    "    device = torch.device(\"cuda\")\n",
    "    t = (\n",
    "        torch.tensor(tt, dtype=torch.float32, requires_grad=True)\n",
    "        .reshape(-1, 1)\n",
    "        .to(device)\n",
    "    )\n",
    "    lambd_nb = (\n",
    "        torch.tensor(ll, dtype=torch.float32, requires_grad=True)\n",
    "        .reshape(-1, 1)\n",
    "        .to(device)\n",
    "    )\n",
    "    data_input = torch.tensor(data_input_np, dtype=torch.float32).to(device)\n",
    "\n",
    "else:\n",
    "    device = torch.device(\"cpu\")\n",
    "    t = torch.tensor(tt, dtype=torch.float32, requires_grad=True).reshape(-1, 1)\n",
    "    lambd_nb = torch.tensor(ll, dtype=torch.float32, requires_grad=True).reshape(-1, 1)\n",
    "    data_input = torch.tensor(data_input_np, dtype=torch.float32)\n",
    "\n",
    "print(device)"
   ]
  },
  {
   "cell_type": "code",
   "execution_count": 73,
   "metadata": {},
   "outputs": [
    {
     "data": {
      "text/plain": [
       "torch.Size([121, 1])"
      ]
     },
     "execution_count": 73,
     "metadata": {},
     "output_type": "execute_result"
    }
   ],
   "source": [
    "t.shape"
   ]
  },
  {
   "cell_type": "code",
   "execution_count": 74,
   "metadata": {},
   "outputs": [],
   "source": [
    "activation_dict = {\n",
    "    \"Elu\": nn.ELU,\n",
    "    \"LeakyReLU\": nn.LeakyReLU,\n",
    "    \"Sigmoid\": nn.Sigmoid,\n",
    "    \"Softplus\": nn.Softplus,\n",
    "    \"Tanh\": nn.Tanh,\n",
    "    \"Linear\": nn.Linear,\n",
    "    \"ReLU\": nn.ReLU,\n",
    "    \"RReLU\": nn.RReLU,\n",
    "    \"SELU\": nn.SELU,\n",
    "    \"CELU\": nn.CELU,\n",
    "    \"GELU\": nn.GELU,\n",
    "    \"SiLU\": nn.SiLU,\n",
    "    \"GLU\": nn.GLU,\n",
    "}"
   ]
  },
  {
   "cell_type": "code",
   "execution_count": 75,
   "metadata": {},
   "outputs": [],
   "source": [
    "arch_str = \"Tanh--32__Tanh--32__Tanh--32__GELU--32\""
   ]
  },
  {
   "cell_type": "code",
   "execution_count": 76,
   "metadata": {},
   "outputs": [],
   "source": [
    "def generate_model(arch_str):\n",
    "    hidden_layers = arch_str.split(\"__\")\n",
    "\n",
    "    modules = []\n",
    "\n",
    "    for params in hidden_layers:\n",
    "        if len(params) != 0:\n",
    "            activation, out_neurons = params.split(\"--\")\n",
    "\n",
    "            if len(modules) == 0:\n",
    "                if activation == \"Linear\":\n",
    "                    modules.append(activation_dict[activation](2, int(out_neurons)))\n",
    "\n",
    "                else:\n",
    "                    modules.append(nn.Linear(2, int(out_neurons)))\n",
    "                    modules.append(activation_dict[activation]())\n",
    "\n",
    "            else:\n",
    "                if activation == \"Linear\":\n",
    "                    modules.append(\n",
    "                        activation_dict[activation](int(in_neurons), int(out_neurons))\n",
    "                    )\n",
    "\n",
    "                else:\n",
    "                    modules.append(nn.Linear(int(in_neurons), int(out_neurons)))\n",
    "                    modules.append(activation_dict[activation]())\n",
    "\n",
    "            in_neurons = out_neurons\n",
    "\n",
    "    modules.append(nn.Linear(int(in_neurons), 2))\n",
    "\n",
    "    return nn.Sequential(*modules)"
   ]
  },
  {
   "cell_type": "code",
   "execution_count": 77,
   "metadata": {},
   "outputs": [
    {
     "name": "stdout",
     "output_type": "stream",
     "text": [
      "Sequential(\n",
      "  (0): Linear(in_features=2, out_features=32, bias=True)\n",
      "  (1): Tanh()\n",
      "  (2): Linear(in_features=32, out_features=32, bias=True)\n",
      "  (3): Tanh()\n",
      "  (4): Linear(in_features=32, out_features=32, bias=True)\n",
      "  (5): Tanh()\n",
      "  (6): Linear(in_features=32, out_features=32, bias=True)\n",
      "  (7): GELU(approximate='none')\n",
      "  (8): Linear(in_features=32, out_features=2, bias=True)\n",
      ")\n"
     ]
    }
   ],
   "source": [
    "model = generate_model(arch_str).to(device)\n",
    "\n",
    "print(model)"
   ]
  },
  {
   "cell_type": "code",
   "execution_count": 78,
   "metadata": {},
   "outputs": [],
   "source": [
    "def initial_condition(t):\n",
    "    Cl = torch.zeros_like(t)\n",
    "    Cp = torch.zeros_like(t) + 0.2\n",
    "    return torch.cat([Cl, Cp], dim=1)"
   ]
  },
  {
   "cell_type": "code",
   "execution_count": 79,
   "metadata": {},
   "outputs": [],
   "source": [
    "def pde(t, lambd_nb, model):\n",
    "    mesh = torch.cat([t, lambd_nb], dim=1)\n",
    "\n",
    "    Cl, Cp = model(mesh).split(1, dim=1)\n",
    "\n",
    "    # Calculando Cp\n",
    "\n",
    "    dCp_dt = torch.autograd.grad(\n",
    "        Cp,\n",
    "        t,\n",
    "        grad_outputs=torch.ones_like(Cp),\n",
    "        create_graph=True,\n",
    "        retain_graph=True,\n",
    "    )[0]\n",
    "\n",
    "    Cp_eq = (cb - lambd_nb * Cl) * Cp * phi - dCp_dt\n",
    "\n",
    "    # Calculando Cl\n",
    "\n",
    "    dCl_dt = torch.autograd.grad(\n",
    "        Cl,\n",
    "        t,\n",
    "        grad_outputs=torch.ones_like(Cl),\n",
    "        create_graph=True,\n",
    "        retain_graph=True,\n",
    "    )[0]\n",
    "\n",
    "    Cl_eq = (y_n * Cp * (C_nmax - 1) - (lambd_bn * Cp + mi_n)) * Cl * phi - dCl_dt\n",
    "\n",
    "    del dCl_dt\n",
    "    del dCp_dt\n",
    "\n",
    "    torch.cuda.empty_cache()\n",
    "\n",
    "    return torch.cat([Cl_eq, Cp_eq], dim=1)"
   ]
  },
  {
   "cell_type": "code",
   "execution_count": 80,
   "metadata": {},
   "outputs": [
    {
     "name": "stdout",
     "output_type": "stream",
     "text": [
      "Finished epoch 0, latest loss 3.18923282623291\n"
     ]
    },
    {
     "name": "stdout",
     "output_type": "stream",
     "text": [
      "Finished epoch 100, latest loss 0.14012283086776733\n",
      "Finished epoch 200, latest loss 0.04114152863621712\n",
      "Finished epoch 300, latest loss 0.012034283019602299\n",
      "Finished epoch 400, latest loss 0.00854608416557312\n"
     ]
    }
   ],
   "source": [
    "def train(n_epochs, batch_size, decay_rate, model,lambd_nb,device,data_input,t):\n",
    "    loss_fn = nn.MSELoss()  # binary cross entropy\n",
    "    optimizer = optim.Adam(model.parameters(), lr=0.001)\n",
    "\n",
    "    lr_scheduler = optim.lr_scheduler.ExponentialLR(\n",
    "        optimizer=optimizer, gamma=decay_rate\n",
    "    )\n",
    "    loss_fn = nn.MSELoss()  # binary cross entropy\n",
    "    optimizer = optim.Adam(model.parameters(), lr=0.001)\n",
    "    decay_rate = 0.99\n",
    "\n",
    "    lr_scheduler = optim.lr_scheduler.ExponentialLR(\n",
    "        optimizer=optimizer, gamma=decay_rate\n",
    "    )\n",
    "    C_pde_loss_it = torch.zeros(n_epochs).to(device)\n",
    "    C_data_loss_it = torch.zeros(n_epochs).to(device)\n",
    "    C_initial_loss_it = torch.zeros(n_epochs).to(device)\n",
    "    C_initial = initial_condition(t).to(device)\n",
    "\n",
    "    for epoch in range(n_epochs):\n",
    "        for i in range(0, len(t), batch_size):\n",
    "            t_initial = torch.zeros_like(t[i : i + batch_size])\n",
    "\n",
    "            mesh = torch.cat([t_initial, lambd_nb[i : i + batch_size]], dim=1)\n",
    "            C_initial_pred = model(mesh)\n",
    "\n",
    "            loss_initial = loss_fn(C_initial[i : i + batch_size], C_initial_pred)\n",
    "\n",
    "            mesh = torch.cat(\n",
    "                [t[i : i + batch_size], lambd_nb[i : i + batch_size]], dim=1\n",
    "            )\n",
    "            C_pred = model(mesh)\n",
    "\n",
    "            loss_pde = loss_fn(\n",
    "                pde(t[i : i + batch_size], lambd_nb[i : i + batch_size], model),\n",
    "                torch.cat([t_initial, t_initial], dim=1),\n",
    "            )\n",
    "\n",
    "            loss_data = loss_fn(C_pred, data_input[i : i + batch_size])\n",
    "\n",
    "            loss = 10 * loss_initial + loss_pde + 10 * loss_data\n",
    "\n",
    "            optimizer.zero_grad()\n",
    "            loss.backward()\n",
    "            optimizer.step()\n",
    "            # lr_scheduler.step()\n",
    "\n",
    "        C_pde_loss_it[epoch] = loss_pde.item()\n",
    "        C_initial_loss_it[epoch] = loss_initial.item()\n",
    "        C_data_loss_it[epoch] = loss_data.item()\n",
    "\n",
    "        if epoch % 100 == 0:\n",
    "            print(f\"Finished epoch {epoch}, latest loss {loss}\")\n",
    "\n",
    "    return model, C_pde_loss_it, C_initial_loss_it, C_data_loss_it\n",
    "\n",
    "\n",
    "decay_rate = 0.99\n",
    "n_epochs = 500\n",
    "batch_size = 100000\n",
    "\n",
    "model, C_pde_loss_it, C_initial_loss_it, C_data_loss_it = train(\n",
    "    n_epochs=n_epochs,\n",
    "    batch_size=batch_size,\n",
    "    decay_rate=decay_rate,\n",
    "    model=model,\n",
    "    lambd_nb=lambd_nb,\n",
    "    device = device,\n",
    "    data_input=data_input,\n",
    "    t=t\n",
    ")"
   ]
  },
  {
   "cell_type": "code",
   "execution_count": 81,
   "metadata": {},
   "outputs": [],
   "source": [
    "pinn_file = \"epochs_{}__batch_{}__arch_\".format(n_epochs, batch_size) + arch_str"
   ]
  },
  {
   "cell_type": "code",
   "execution_count": 82,
   "metadata": {},
   "outputs": [
    {
     "data": {
      "text/plain": [
       "<Figure size 1600x2700 with 0 Axes>"
      ]
     },
     "metadata": {},
     "output_type": "display_data"
    },
    {
     "data": {
      "image/png": "[encoded data removed]",
      "text/plain": [
       "<Figure size 1800x900 with 1 Axes>"
      ]
     },
     "metadata": {},
     "output_type": "display_data"
    }
   ],
   "source": [
    "import matplotlib.pyplot as plt\n",
    "\n",
    "fig = plt.figure(figsize=[18, 9])\n",
    "\n",
    "fig.suptitle(\"Curva de aprendizagem\", fontsize=16)\n",
    "\n",
    "# Plotango 3D\n",
    "ax = fig.add_subplot(1, 1, 1)\n",
    "\n",
    "ax.set_xlabel(\"iterações\")\n",
    "ax.set_ylabel(\"perda\")\n",
    "ax.plot(\n",
    "    range(len(C_pde_loss_it.cpu().numpy())),\n",
    "    C_pde_loss_it.cpu().numpy(),\n",
    "    label=\"PDE loss\",\n",
    ")\n",
    "ax.plot(\n",
    "    range(len(C_data_loss_it.cpu().numpy())),\n",
    "    C_data_loss_it.cpu().numpy(),\n",
    "    label=\"Data loss\",\n",
    ")\n",
    "ax.plot(\n",
    "    range(len(C_initial_loss_it.cpu().numpy())),\n",
    "    C_initial_loss_it.cpu().numpy(),\n",
    "    label=\"Initial loss\",\n",
    ")\n",
    "# ax.set_yscale(\"log\")\n",
    "ax.grid()\n",
    "ax.legend()\n",
    "\n",
    "plt.show()"
   ]
  },
  {
   "cell_type": "code",
   "execution_count": 83,
   "metadata": {},
   "outputs": [],
   "source": [
    "model_cpu = model.to(\"cpu\")\n",
    "\n",
    "speed_up = []\n",
    "\n",
    "mesh = torch.cat([t, lambd_nb], dim=1).to(\"cpu\")\n",
    "\n",
    "for i in range(10):\n",
    "    fdm_start = time.time()\n",
    "\n",
    "    for lbm_nb in lmb_list:\n",
    "        struct_name = (\n",
    "            \"k--\"\n",
    "            + str(k)\n",
    "            + \"__phi--0.2__ksi--0.0__cb--0.15__Cn_max--0.55__lambd_nb--\"\n",
    "            + str(lbm_nb)\n",
    "            + \"__mi_n--0.2__lambd_bn--0.1__y_n--0.1__t_lower--\"\n",
    "            + str(t_lower)\n",
    "            + \"__t_upper--\"\n",
    "            + str(t_upper)\n",
    "        )\n",
    "\n",
    "        _, _ = fdm(\n",
    "            k,\n",
    "            phi,\n",
    "            ksi,\n",
    "            cb,\n",
    "            C_nmax,\n",
    "            lbm_nb,\n",
    "            mi_n,\n",
    "            lambd_bn,\n",
    "            y_n,\n",
    "            t_lower,\n",
    "            t_upper,\n",
    "        )\n",
    "\n",
    "    fdm_end = time.time()\n",
    "\n",
    "    pinn_start = time.time()\n",
    "\n",
    "    with torch.no_grad():\n",
    "        Cl_pinn, Cp_pinn = model_cpu(mesh).split(1, dim=1)\n",
    "\n",
    "    pinn_end = time.time()\n",
    "\n",
    "    fdm_time = fdm_end - fdm_start\n",
    "\n",
    "    pinn_time = pinn_end - pinn_start\n",
    "\n",
    "    speed_up.append(fdm_time / pinn_time)"
   ]
  },
  {
   "cell_type": "code",
   "execution_count": 84,
   "metadata": {},
   "outputs": [],
   "source": [
    "mean_speed_up = np.mean(speed_up)\n",
    "std_speed_up = np.std(speed_up)\n",
    "\n",
    "rmse = np.mean(\n",
    "    [\n",
    "        ((Cl_p[0] - Cl_f) ** 2 + (Cp_p[0] - Cp_f) ** 2) ** 0.5\n",
    "        for Cl_p, Cp_p, Cl_f, Cp_f in zip(\n",
    "            Cl_pinn, Cp_pinn, Cl_old.flatten(), Cp_old.flatten()\n",
    "        )\n",
    "    ]\n",
    ")\n",
    "\n",
    "max_ae = np.max(\n",
    "    [\n",
    "        [((Cl_p[0] - Cl_f) ** 2) ** 0.5, ((Cp_p[0] - Cp_f) ** 2) ** 0.5]\n",
    "        for Cl_p, Cp_p, Cl_f, Cp_f in zip(\n",
    "            Cl_pinn, Cp_pinn, Cl_old.flatten(), Cp_old.flatten()\n",
    "        )\n",
    "    ]\n",
    ")"
   ]
  },
  {
   "cell_type": "code",
   "execution_count": 85,
   "metadata": {},
   "outputs": [],
   "source": [
    "output = {\n",
    "    \"rmse\": rmse,\n",
    "    \"max_ae\": max_ae,\n",
    "    \"mean_speed_up\": mean_speed_up,\n",
    "    \"std_speed_up\": std_speed_up,\n",
    "    \"Cl_pinn\": Cl_pinn,\n",
    "    \"Cp_pinn\": Cp_pinn,\n",
    "}"
   ]
  },
  {
   "cell_type": "code",
   "execution_count": 86,
   "metadata": {},
   "outputs": [
    {
     "name": "stdout",
     "output_type": "stream",
     "text": [
      "Erro absoluto médio 0.023326155\n",
      "Erro absoluto máximo 0.072117984\n",
      "Speed Up: 0.2724138246449487 +/-0.2203980984134883\n"
     ]
    }
   ],
   "source": [
    "print(\"Erro absoluto médio\", rmse)\n",
    "print(\"Erro absoluto máximo\", max_ae)\n",
    "print(\"Speed Up: {} +/-{}\".format(mean_speed_up, std_speed_up))"
   ]
  },
  {
   "cell_type": "code",
   "execution_count": 87,
   "metadata": {},
   "outputs": [
    {
     "data": {
      "image/png": "[encoded data removed]",
      "text/plain": [
       "<Figure size 1800x1800 with 8 Axes>"
      ]
     },
     "metadata": {},
     "output_type": "display_data"
    }
   ],
   "source": [
    "Cl_pinn_np = Cl_pinn.detach().numpy().reshape(size_t + 1, size_t + 1)\n",
    "Cp_pinn_np = Cp_pinn.detach().numpy().reshape(size_t + 1, size_t + 1)\n",
    "\n",
    "fig = plt.figure(figsize=[18, 18])\n",
    "\n",
    "fig.suptitle(\"Resposta imunológica a patógenos\", fontsize=16)\n",
    "\n",
    "vmin = 0\n",
    "vmax = np.max(\n",
    "    [\n",
    "        np.max(Cp_pinn.cpu().numpy()),\n",
    "        np.max(Cl_pinn.cpu().numpy()),\n",
    "        np.max(Cp_old),\n",
    "        np.max(Cl_old),\n",
    "    ]\n",
    ")\n",
    "\n",
    "# Plotango 3D\n",
    "ax = fig.add_subplot(2, 2, 1)\n",
    "\n",
    "contour = ax.contourf(\n",
    "    tt,\n",
    "    ll,\n",
    "    Cp_pinn_np,\n",
    "    cmap=\"jet\",\n",
    "    vmin=vmin,\n",
    "    vmax=vmax,\n",
    ")\n",
    "ax.set_title(\"Con. de bactérias\")\n",
    "ax.set_xlabel(\"tempo\")\n",
    "ax.set_ylabel(\"fagocitose\")\n",
    "colobar = fig.colorbar(contour, ticks=np.linspace(vmin, vmax, num=5))\n",
    "\n",
    "# Plotando 2D\n",
    "\n",
    "ax = fig.add_subplot(2, 2, 2)\n",
    "\n",
    "contour = ax.contourf(\n",
    "    tt,\n",
    "    ll,\n",
    "    Cl_pinn_np,\n",
    "    cmap=\"jet\",\n",
    "    vmin=vmin,\n",
    "    vmax=vmax,\n",
    ")\n",
    "ax.set_title(\"Con. de neutrófilos\")\n",
    "ax.set_xlabel(\"tempo\")\n",
    "ax.set_ylabel(\"fagocitose\")\n",
    "\n",
    "colobar = fig.colorbar(contour, ticks=np.linspace(vmin, vmax, num=5))\n",
    "\n",
    "# Plotango 3D\n",
    "ax = fig.add_subplot(2, 2, 3)\n",
    "\n",
    "contour = ax.contourf(\n",
    "    tt,\n",
    "    ll,\n",
    "    Cp_old.reshape(size_t + 1, size_t + 1),\n",
    "    cmap=\"jet\",\n",
    "    vmin=vmin,\n",
    "    vmax=vmax,\n",
    ")\n",
    "ax.set_title(\"Con. real de bactérias\")\n",
    "ax.set_xlabel(\"tempo\")\n",
    "ax.set_ylabel(\"fagocitose\")\n",
    "colobar = fig.colorbar(contour, ticks=np.linspace(vmin, vmax, num=5))\n",
    "\n",
    "# Plotando 2D\n",
    "\n",
    "ax = fig.add_subplot(2, 2, 4)\n",
    "\n",
    "contour = ax.contourf(\n",
    "    tt,\n",
    "    ll,\n",
    "    Cl_old.reshape(size_t + 1, size_t + 1),\n",
    "    cmap=\"jet\",\n",
    "    vmin=vmin,\n",
    "    vmax=vmax,\n",
    ")\n",
    "ax.set_title(\"Con. real de neutrófilos\")\n",
    "ax.set_xlabel(\"tempo\")\n",
    "ax.set_ylabel(\"fagocitose\")\n",
    "\n",
    "colobar = fig.colorbar(contour, ticks=np.linspace(vmin, vmax, num=5))\n",
    "\n",
    "plt.show()"
   ]
  },
  {
   "cell_type": "code",
   "execution_count": 88,
   "metadata": {},
   "outputs": [
    {
     "ename": "IndexError",
     "evalue": "index 500 is out of bounds for axis 0 with size 11",
     "output_type": "error",
     "traceback": [
      "\u001b[0;31m---------------------------------------------------------------------------\u001b[0m",
      "\u001b[0;31mIndexError\u001b[0m                                Traceback (most recent call last)",
      "Cell \u001b[0;32mIn[88], line 16\u001b[0m\n\u001b[1;32m     13\u001b[0m cl_pinn_1 \u001b[38;5;241m=\u001b[39m Cl_pinn_np[\u001b[38;5;241m0\u001b[39m, :]\n\u001b[1;32m     14\u001b[0m fag_1 \u001b[38;5;241m=\u001b[39m lambd_nb[\u001b[38;5;241m0\u001b[39m \u001b[38;5;241m*\u001b[39m (size_t \u001b[38;5;241m+\u001b[39m \u001b[38;5;241m1\u001b[39m)]\u001b[38;5;241m.\u001b[39mcpu()\u001b[38;5;241m.\u001b[39mdetach()\u001b[38;5;241m.\u001b[39mnumpy()[\u001b[38;5;241m0\u001b[39m]\n\u001b[0;32m---> 16\u001b[0m cp_real_2 \u001b[38;5;241m=\u001b[39m \u001b[43mCp_old\u001b[49m\u001b[43m[\u001b[49m\u001b[38;5;241;43m500\u001b[39;49m\u001b[43m,\u001b[49m\u001b[43m \u001b[49m\u001b[43m:\u001b[49m\u001b[43m]\u001b[49m\n\u001b[1;32m     17\u001b[0m cl_real_2 \u001b[38;5;241m=\u001b[39m Cl_old[\u001b[38;5;241m500\u001b[39m, :]\n\u001b[1;32m     18\u001b[0m cp_pinn_2 \u001b[38;5;241m=\u001b[39m Cp_pinn_np[\u001b[38;5;241m500\u001b[39m, :]\n",
      "\u001b[0;31mIndexError\u001b[0m: index 500 is out of bounds for axis 0 with size 11"
     ]
    }
   ],
   "source": [
    "import matplotlib.pyplot as plt\n",
    "\n",
    "fig = plt.figure(figsize=[16, 27])\n",
    "\n",
    "fig.suptitle(\"Concentração de patógenos e leucócitos\", fontsize=16)\n",
    "\n",
    "\n",
    "vmin = 0\n",
    "\n",
    "cp_real_1 = Cp_old[0, :]\n",
    "cl_real_1 = Cl_old[0, :]\n",
    "cp_pinn_1 = Cp_pinn_np[0, :]\n",
    "cl_pinn_1 = Cl_pinn_np[0, :]\n",
    "fag_1 = lambd_nb[0 * (size_t + 1)].cpu().detach().numpy()[0]\n",
    "\n",
    "cp_real_2 = Cp_old[500, :]\n",
    "cl_real_2 = Cl_old[500, :]\n",
    "cp_pinn_2 = Cp_pinn_np[500, :]\n",
    "cl_pinn_2 = Cl_pinn_np[500, :]\n",
    "fag_2 = lambd_nb[500 * (size_t + 1)].cpu().detach().numpy()[0]\n",
    "\n",
    "cp_real_3 = Cp_old[1000, :]\n",
    "cl_real_3 = Cl_old[1000, :]\n",
    "cp_pinn_3 = Cp_pinn_np[1000, :]\n",
    "cl_pinn_3 = Cl_pinn_np[1000, :]\n",
    "fag_3 = lambd_nb[1000 * (size_t + 1)].cpu().detach().numpy()[0]\n",
    "\n",
    "# Plotango 3D\n",
    "ax = fig.add_subplot(3, 1, 1)\n",
    "\n",
    "ax.plot(t_np, cp_real_1, label=\"Pat fdm = {:.2f}\".format(fag_1))\n",
    "ax.plot(t_np, cl_real_1, label=\"Leu. fdm = {:.2f}\".format(fag_1))\n",
    "ax.plot(t_np, cp_pinn_1, \"--\", label=\"Pat. pinn fag. = {:.2f}\".format(fag_1))\n",
    "ax.plot(t_np, cl_pinn_1, \"-.\", label=\"Leu. pinn fag. = {:.2f}\".format(fag_1))\n",
    "ax.set_xlabel(\"X\")\n",
    "ax.set_ylabel(\"Y\")\n",
    "\n",
    "vmax = np.max(\n",
    "    [\n",
    "        np.max(cp_real_1),\n",
    "        np.max(cl_real_1),\n",
    "        np.max(cp_pinn_1),\n",
    "        np.max(cl_pinn_1),\n",
    "    ]\n",
    ")\n",
    "ax.set_ylim(vmin, vmax + 0.1)\n",
    "ax.legend()\n",
    "ax.grid()\n",
    "\n",
    "ax = fig.add_subplot(3, 1, 2)\n",
    "\n",
    "ax.plot(t_np, cp_real_2, label=\"Pat fdm = {:.2f}\".format(fag_1))\n",
    "ax.plot(t_np, cl_real_2, label=\"Leu. fdm = {:.2f}\".format(fag_1))\n",
    "ax.plot(t_np, cp_pinn_2, \"--\", label=\"Pat. pinn fag. = {:.2f}\".format(fag_2))\n",
    "ax.plot(t_np, cl_pinn_2, \"-.\", label=\"Leu. pinn fag. = {:.2f}\".format(fag_2))\n",
    "ax.set_xlabel(\"X\")\n",
    "ax.set_ylabel(\"Y\")\n",
    "vmax = np.max(\n",
    "    [\n",
    "        np.max(cp_real_2),\n",
    "        np.max(cl_real_2),\n",
    "        np.max(cp_pinn_2),\n",
    "        np.max(cl_pinn_2),\n",
    "    ]\n",
    ")\n",
    "ax.set_ylim(vmin, vmax + 0.1)\n",
    "ax.legend()\n",
    "ax.grid()\n",
    "\n",
    "ax = fig.add_subplot(3, 1, 3)\n",
    "\n",
    "ax.plot(t_np, cp_real_3, label=\"Pat fdm = {:.2f}\".format(fag_1))\n",
    "ax.plot(t_np, cl_real_3, label=\"Leu. fdm = {:.2f}\".format(fag_1))\n",
    "ax.plot(t_np, cp_pinn_3, \"--\", label=\"Pat. pinn fag. = {:.2f}\".format(fag_3))\n",
    "ax.plot(t_np, cl_pinn_3, \"-.\", label=\"Leu. pinn fag. = {:.2f}\".format(fag_3))\n",
    "ax.set_xlabel(\"X\")\n",
    "ax.set_ylabel(\"Y\")\n",
    "vmax = np.max(\n",
    "    [\n",
    "        np.max(cp_real_3),\n",
    "        np.max(cl_real_3),\n",
    "        np.max(cp_pinn_3),\n",
    "        np.max(cl_pinn_3),\n",
    "    ]\n",
    ")\n",
    "ax.set_ylim(vmin, vmax + 0.1)\n",
    "ax.legend()\n",
    "ax.grid()\n",
    "\n",
    "plt.show()"
   ]
  },
  {
   "cell_type": "code",
   "execution_count": null,
   "metadata": {},
   "outputs": [
    {
     "data": {
      "text/plain": [
       "['edo_pinn_sim/struct.txt']"
      ]
     },
     "execution_count": 3,
     "metadata": {},
     "output_type": "execute_result"
    }
   ],
   "source": [
    "import glob\n",
    "\n",
    "glob.glob(\"edo_pinn_sim/*\")"
   ]
  },
  {
   "cell_type": "code",
   "execution_count": null,
   "metadata": {},
   "outputs": [],
   "source": []
  }
 ],
 "metadata": {
  "kernelspec": {
   "display_name": "torch_gpu",
   "language": "python",
   "name": "python3"
  },
  "language_info": {
   "codemirror_mode": {
    "name": "ipython",
    "version": 3
   },
   "file_extension": ".py",
   "mimetype": "text/x-python",
   "name": "python",
   "nbconvert_exporter": "python",
   "pygments_lexer": "ipython3",
   "version": "3.9.18"
  }
 },
 "nbformat": 4,
 "nbformat_minor": 2
}

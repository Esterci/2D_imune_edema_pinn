{
 "cells": [
  {
   "cell_type": "code",
   "execution_count": 1,
   "metadata": {},
   "outputs": [],
   "source": [
    "import numpy as np\n",
    "import time\n",
    "import pickle as pk"
   ]
  },
  {
   "cell_type": "code",
   "execution_count": 2,
   "metadata": {},
   "outputs": [
    {
     "name": "stdout",
     "output_type": "stream",
     "text": [
      "Size x = 100, y = 100 \n",
      " \n",
      "Steps in time = 3000\n",
      "Steps in space_x = 100\n",
      "Steps in space_y = 100\n",
      "\n",
      "struct_name:  h--0.01__k--0.005__Db--0.0001__Dn--0.0001__phi--0.2__ksi--0.0__cb--0.15__lambd_nb--1.8__mi_n--0.2__lambd_bn--0.1__y_n--0.1__Cn_max--0.5__X_nb--0.5__x_dom_min--0__x_dom_max--1__y_dom_min--0__y_dom_max--1__t_dom_min--0__t_dom_max--15\n"
     ]
    }
   ],
   "source": [
    "h = 0.01\n",
    "k = 0.005\n",
    "Db = 0.0001\n",
    "Dn = 0.0001\n",
    "phi = 0.2\n",
    "ksi = 0.0\n",
    "cb = 0.15\n",
    "lambd_nb = 1.8\n",
    "mi_n = 0.2\n",
    "lambd_bn = 0.1\n",
    "y_n = 0.1\n",
    "Cn_max = 0.5\n",
    "X_nb = 1e-4\n",
    "x_dom = (0, 1)\n",
    "y_dom = (0, 1)\n",
    "t_dom = (0, 15)\n",
    "\n",
    "size_x = int(((x_dom[1] - x_dom[0]) / (h)))\n",
    "size_y = int(((y_dom[1] - y_dom[0]) / (h)))\n",
    "size_tt = int(((t_dom[1] - t_dom[0]) / (k)))\n",
    "\n",
    "\n",
    "print(\"Size x = {:d}, y = {:d} \\n \".format(size_x, size_y))\n",
    "\n",
    "print(\n",
    "    \"Steps in time = {:d}\\nSteps in space_x = {:d}\\nSteps in space_y = {:d}\\n\".format(\n",
    "        size_tt,\n",
    "        size_x,\n",
    "        size_y,\n",
    "    )\n",
    ")\n",
    "\n",
    "\n",
    "struct_name = (\n",
    "    \"h--\"\n",
    "    + str(h)\n",
    "    + \"__k--\"\n",
    "    + str(k)\n",
    "    + \"__Db--\"\n",
    "    + str(Db)\n",
    "    + \"__Dn--\"\n",
    "    + str(Dn)\n",
    "    + \"__phi--\"\n",
    "    + str(phi)\n",
    "    + \"__ksi--\"\n",
    "    + str(ksi)\n",
    "    + \"__cb--\"\n",
    "    + str(cb)\n",
    "    + \"__lambd_nb--\"\n",
    "    + str(lambd_nb)\n",
    "    + \"__mi_n--\"\n",
    "    + str(mi_n)\n",
    "    + \"__lambd_bn--\"\n",
    "    + str(lambd_bn)\n",
    "    + \"__y_n--\"\n",
    "    + str(y_n)\n",
    "    + \"__Cn_max--\"\n",
    "    + str(Cn_max)\n",
    "    + \"__X_nb--\"\n",
    "    + str(Cn_max)\n",
    "    + \"__x_dom_min--\"\n",
    "    + str(x_dom[0])\n",
    "    + \"__x_dom_max--\"\n",
    "    + str(x_dom[-1])\n",
    "    + \"__y_dom_min--\"\n",
    "    + str(y_dom[0])\n",
    "    + \"__y_dom_max--\"\n",
    "    + str(y_dom[-1])\n",
    "    + \"__t_dom_min--\"\n",
    "    + str(t_dom[0])\n",
    "    + \"__t_dom_max--\"\n",
    "    + str(t_dom[-1])\n",
    ")\n",
    "\n",
    "print(\"struct_name: \", struct_name)"
   ]
  },
  {
   "cell_type": "code",
   "execution_count": null,
   "metadata": {},
   "outputs": [],
   "source": []
  }
 ],
 "metadata": {
  "kernelspec": {
   "display_name": "pyTourch",
   "language": "python",
   "name": "python3"
  },
  "language_info": {
   "codemirror_mode": {
    "name": "ipython",
    "version": 3
   },
   "file_extension": ".py",
   "mimetype": "text/x-python",
   "name": "python",
   "nbconvert_exporter": "python",
   "pygments_lexer": "ipython3",
   "version": "3.9.18"
  }
 },
 "nbformat": 4,
 "nbformat_minor": 2
}
